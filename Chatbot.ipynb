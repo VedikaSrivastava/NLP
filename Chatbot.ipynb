{
 "cells": [
  {
   "cell_type": "markdown",
   "metadata": {},
   "source": [
    "Author: Vedika Srivastava<br>\n",
    "Date created: 20/07/21<br>\n",
    "Title: Chatbot"
   ]
  },
  {
   "cell_type": "markdown",
   "metadata": {},
   "source": [
    "<hr>libraries"
   ]
  },
  {
   "cell_type": "code",
   "execution_count": 19,
   "metadata": {},
   "outputs": [],
   "source": [
    "import nltk\n",
    "from nltk.chat.util import Chat, reflections"
   ]
  },
  {
   "cell_type": "code",
   "execution_count": 20,
   "metadata": {},
   "outputs": [
    {
     "data": {
      "text/plain": [
       "{'i am': 'you are',\n",
       " 'i was': 'you were',\n",
       " 'i': 'you',\n",
       " \"i'm\": 'you are',\n",
       " \"i'd\": 'you would',\n",
       " \"i've\": 'you have',\n",
       " \"i'll\": 'you will',\n",
       " 'my': 'your',\n",
       " 'you are': 'I am',\n",
       " 'you were': 'I was',\n",
       " \"you've\": 'I have',\n",
       " \"you'll\": 'I will',\n",
       " 'your': 'my',\n",
       " 'yours': 'mine',\n",
       " 'you': 'me',\n",
       " 'me': 'you'}"
      ]
     },
     "execution_count": 20,
     "metadata": {},
     "output_type": "execute_result"
    }
   ],
   "source": [
    "#check the reflections available\n",
    "reflections"
   ]
  },
  {
   "cell_type": "code",
   "execution_count": 21,
   "metadata": {},
   "outputs": [
    {
     "data": {
      "text/plain": [
       "nltk.chat.util.Chat"
      ]
     },
     "execution_count": 21,
     "metadata": {},
     "output_type": "execute_result"
    }
   ],
   "source": [
    "#check what is stored in chat\n",
    "Chat"
   ]
  },
  {
   "cell_type": "markdown",
   "metadata": {},
   "source": [
    "<hr>chatbot logic"
   ]
  },
  {
   "cell_type": "code",
   "execution_count": 22,
   "metadata": {},
   "outputs": [],
   "source": [
    "#r indicates reflections\n",
    "# (.*) - any input\n",
    "# %1 - pick one word from input\n",
    "#similar type of ques can be written using OR(|)\n",
    "#multiple answers can be mentioned with the help of comma\n",
    "# quit - is important otherwise it wont get out of conversation\n",
    "\n",
    "pairs = [\n",
    "    [r\"My name is (.*)\", \n",
    "     [\"Hello %1, How are you today?\",]\n",
    "    ],\n",
    "    \n",
    "    [r\"I am good|I am fine\", \n",
    "     [\"Thats great! How can I help you?\",]\n",
    "    ],\n",
    "    \n",
    "    [r\"Hi(.*)|Hey(.*)|Hello(.*)\", \n",
    "     [\"Hello!\", \"Hey there!\", \"Hola!\",]\n",
    "    ],\n",
    "    \n",
    "    [r\"What is you name(.*)|What are you called(.*)\", \n",
    "     [\"My name is Jane\",\"You can call me Jane\",]\n",
    "    ],\n",
    "    \n",
    "    [r\"Who created you(.*)|Who is your creator(.*)\", \n",
    "     [\"I was created by Vedika\",]\n",
    "    ],\n",
    "    \n",
    "    [r\"Thank you(.*)|Thanks(.*)\", \n",
    "     [\"Happy to help!\",\"You can always count on me.\",\"Welcome Amigo\",]\n",
    "    ],\n",
    "    \n",
    "    [r\"quit\", \n",
    "     [\"Bye!!!\",]\n",
    "    ],\n",
    "]"
   ]
  },
  {
   "cell_type": "markdown",
   "metadata": {},
   "source": [
    "<hr>define chat functionality"
   ]
  },
  {
   "cell_type": "code",
   "execution_count": 23,
   "metadata": {},
   "outputs": [],
   "source": [
    "#invoke chatbot\n",
    "def chatbot():\n",
    "    print(\"Hi! I am a Jane.\")"
   ]
  },
  {
   "cell_type": "code",
   "execution_count": 24,
   "metadata": {},
   "outputs": [
    {
     "name": "stdout",
     "output_type": "stream",
     "text": [
      "Hi! I am a Jane.\n"
     ]
    }
   ],
   "source": [
    "chatbot()"
   ]
  },
  {
   "cell_type": "code",
   "execution_count": 25,
   "metadata": {},
   "outputs": [],
   "source": [
    "Chat = Chat(pairs, reflections)"
   ]
  },
  {
   "cell_type": "markdown",
   "metadata": {},
   "source": [
    "<hr>output"
   ]
  },
  {
   "cell_type": "code",
   "execution_count": 26,
   "metadata": {},
   "outputs": [
    {
     "name": "stdout",
     "output_type": "stream",
     "text": [
      "Hi! I am a Jane.\n",
      ">Hi Jane\n",
      "Hey there!\n",
      ">My name is Vedika\n",
      "Hello vedika, How are you today?\n",
      ">I am good\n",
      "Thats great! How can I help you?\n",
      ">What is you name\n",
      "You can call me Jane\n",
      ">What is you name?\n",
      "You can call me Jane\n",
      ">What are you called\n",
      "My name is Jane\n",
      ">Thank you Jane\n",
      "Welcome Amigo\n",
      ">Thanks\n",
      "Happy to help!\n",
      ">Thank you\n",
      "You can always count on me.\n",
      ">quit\n",
      "Bye!!!\n"
     ]
    }
   ],
   "source": [
    "chatbot()\n",
    "Chat.converse()"
   ]
  },
  {
   "cell_type": "markdown",
   "metadata": {},
   "source": [
    "# <center>Application - Pet Store Chat Support</center>"
   ]
  },
  {
   "cell_type": "code",
   "execution_count": 21,
   "metadata": {},
   "outputs": [],
   "source": [
    "import nltk\n",
    "from nltk.chat.util import Chat, reflections"
   ]
  },
  {
   "cell_type": "code",
   "execution_count": 22,
   "metadata": {},
   "outputs": [],
   "source": [
    "pet_shop_pairs = [\n",
    "    \n",
    "    [r\"(.*)dog names(.*)\", \n",
    "     [\"\\nIs your dog male or female?\",\"Do you want me to suggest male dog names or female?\"]\n",
    "    ],\n",
    "    \n",
    "    [r\"(.*)female(.*)\", \n",
    "     [\"\\nSome cute names are - Bella, Daisy, Ruby, Rosie and Lucy.\"]\n",
    "    ],\n",
    "    \n",
    "    [r\"(.*)male(.*)\", \n",
    "     [\"\\nSome cute names are - Charlie, Max, Oscar and Archie.\"]\n",
    "    ],\n",
    "    \n",
    "    [r\"(.*)cheapest dog breeds(.*)|(.*)cheap dog breeds(.*)|(.*) less expensive dog breeds(.*)\", \n",
    "     [\"\\nTop 5 Budget-Friendly Pooches are - Greyhound, Bull Terriers, Weimaraner ,Collie and Beagle.\"]\n",
    "    ],\n",
    "    \n",
    "    [r\"(.*)cheapest cat breeds(.*)|(.*)cheap cat breeds(.*)|(.*) less expensive cat breeds(.*)\", \n",
    "     [\"\\nTop 5 Budget-Friendly Cats are - Turkish Van, Ragdoll, Siamese, Burmese and Manx\"]\n",
    "    ],\n",
    "    \n",
    "    [r\"Do you sell pet food(.*)\", \n",
    "     [\"\\nWe do. We sell dog , cat, bird and fish food.\\nWould you like to purchase?\"]\n",
    "    ],\n",
    "    \n",
    "    [r\"Yes, I would like to purchase(.*)|Buy pet food|Purchase pet food\", \n",
    "     [\"\\nPlease enter your name and address.\"]\n",
    "    ],\n",
    "    \n",
    "    [r\"Name: (.*) Address:(.*)\", \n",
    "     [\"\\nThanks for shopping with us %1. We will have your order delivered tomorrow.\"]\n",
    "    ],\n",
    "    \n",
    "    [r\"No(.*)\", \n",
    "     [\"\\nIs there anyway else I can help you?\"]\n",
    "    ],\n",
    "    \n",
    "    [r\"(.*)shop timing(.*)|(.*)store timing(.*)\", \n",
    "     [\"\\nOur store is open everday from 10:00a.m. to 9:00p.m.\"]\n",
    "    ],\n",
    "    \n",
    "    [r\"How many branches do you have?|Where are your branches located?\", \n",
    "     [\"\\nWe have 3 branches, in Kothrud, Viman Nagar and Nigdi\"]\n",
    "    ],\n",
    "    \n",
    "    [r\"(.*)day care(.*)\", \n",
    "     [\"\\nNo we dont presently. Hoping to start a pet day care soon.\"]\n",
    "    ],\n",
    "    \n",
    "    [r\"quit\", \n",
    "     [\"\\nBye Amigo!\",\"\\nThank you for chosing our service.\",\"\\nHope to see you again!\"]\n",
    "    ],\n",
    "    \n",
    "    [r\"(.*)\", \n",
    "     [\"\\nSorry I do not understand\", \"\\nSorry, we do not offer this service\"]\n",
    "    ],\n",
    "    \n",
    "    \n",
    "                 ]"
   ]
  },
  {
   "cell_type": "code",
   "execution_count": 23,
   "metadata": {},
   "outputs": [],
   "source": [
    "def pet_shop_chatbot():\n",
    "    print(\"Hello!\\nWelcome to our Pet Store.\\n\\nHow may I assist you?\")\n",
    "    \n",
    "pet_chat = Chat(pet_shop_pairs, reflections)    "
   ]
  },
  {
   "cell_type": "code",
   "execution_count": 25,
   "metadata": {},
   "outputs": [
    {
     "name": "stdout",
     "output_type": "stream",
     "text": [
      "Hello!\n",
      "Welcome to our Pet Store.\n",
      "\n",
      "How may I assist you?\n",
      ">Do you sell pet food?\n",
      "\n",
      "We do. We sell dog , cat, bird and fish food.\n",
      "Would you like to purchase?\n",
      ">Yes, I would like to purchase bird food\n",
      "\n",
      "Please enter your name and address.\n",
      ">Name: Vedika Address:abc\n",
      "\n",
      "Thanks for shopping with us vedika. We will have your order delivered tomorrow.\n",
      ">can you suggest me some good dog names\n",
      "\n",
      "Is your dog male or female?\n",
      ">male\n",
      "\n",
      "Some cute names are - Charlie, Max, Oscar and Archie.\n",
      ">what about some female ones\n",
      "\n",
      "Some cute names are - Bella, Daisy, Ruby, Rosie and Lucy.\n",
      ">Do you have a dog day care?\n",
      "\n",
      "No we dont presently. Hoping to start a pet day care soon.\n",
      ">quit\n",
      "\n",
      "Hope to see you again!\n"
     ]
    }
   ],
   "source": [
    "pet_shop_chatbot()\n",
    "pet_chat.converse()"
   ]
  },
  {
   "cell_type": "code",
   "execution_count": 26,
   "metadata": {},
   "outputs": [
    {
     "name": "stdout",
     "output_type": "stream",
     "text": [
      "Hello!\n",
      "Welcome to our Pet Store.\n",
      "\n",
      "How may I assist you?\n",
      ">What are some less expensive dog breeds\n",
      "\n",
      "Top 5 Budget-Friendly Pooches are - Greyhound, Bull Terriers, Weimaraner ,Collie and Beagle.\n",
      ">and what about are the cheapest cat breeds\n",
      "\n",
      "Top 5 Budget-Friendly Cats are - Turkish Van, Ragdoll, Siamese, Burmese and Manx\n",
      ">Do you sell pet food too?\n",
      "\n",
      "We do. We sell dog , cat, bird and fish food.\n",
      "Would you like to purchase?\n",
      ">No\n",
      "\n",
      "Is there anyway else I can help you?\n",
      ">Where are your branches located?\n",
      "\n",
      "We have 3 branches, in Kothrud, Viman Nagar and Nigdi\n",
      ">what are you store timings\n",
      "\n",
      "Our store is open everday from 10:00a.m. to 9:00p.m.\n",
      ">enter_gibberish_text\n",
      "\n",
      "Sorry, we do not offer this service\n",
      ">enter_gibberish_text2\n",
      "\n",
      "Sorry I do not understand\n",
      ">quit\n",
      "\n",
      "Hope to see you again!\n"
     ]
    }
   ],
   "source": [
    "pet_shop_chatbot()\n",
    "pet_chat.converse()"
   ]
  }
 ],
 "metadata": {
  "kernelspec": {
   "display_name": "Python 3",
   "language": "python",
   "name": "python3"
  },
  "language_info": {
   "codemirror_mode": {
    "name": "ipython",
    "version": 3
   },
   "file_extension": ".py",
   "mimetype": "text/x-python",
   "name": "python",
   "nbconvert_exporter": "python",
   "pygments_lexer": "ipython3",
   "version": "3.8.5"
  }
 },
 "nbformat": 4,
 "nbformat_minor": 4
}
